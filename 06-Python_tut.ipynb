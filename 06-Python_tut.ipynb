{
 "cells": [
  {
   "cell_type": "markdown",
   "metadata": {},
   "source": [
    "# OOP in python"
   ]
  },
  {
   "cell_type": "code",
   "execution_count": 26,
   "metadata": {},
   "outputs": [
    {
     "name": "stdout",
     "output_type": "stream",
     "text": [
      "True\n",
      "False\n"
     ]
    }
   ],
   "source": [
    "'''\n",
    "CLASS:-\n",
    "A class is an entity that determines how an object will behave and \n",
    "what the object will contain.\n",
    "\n",
    "Object:-\n",
    "An object is a real world entity which consists of methods and \n",
    "properties.\n",
    "'''\n",
    "\n",
    "class Robot:\n",
    "    pass\n",
    "\n",
    "if __name__ == \"__main__\":\n",
    "    x = Robot()\n",
    "    y = Robot()\n",
    "    y2 = y\n",
    "    print(y == y2)\n",
    "    print(y == x)"
   ]
  },
  {
   "cell_type": "code",
   "execution_count": 27,
   "metadata": {},
   "outputs": [],
   "source": [
    "# Attributes : defines the property of an object\n",
    "class People:\n",
    "    pass\n",
    "\n",
    "x = People()\n",
    "y = People()\n",
    "\n",
    "x.name = \"Rajat\"\n",
    "x.age = 21\n",
    "\n",
    "y.name = \"Anuj\"\n",
    "y.age = 35\n"
   ]
  },
  {
   "cell_type": "code",
   "execution_count": 28,
   "metadata": {},
   "outputs": [
    {
     "name": "stdout",
     "output_type": "stream",
     "text": [
      "{'name': 'Rajat', 'age': 21}\n",
      "{'name': 'Anuj', 'age': 35}\n",
      "{'__module__': '__main__', '__dict__': <attribute '__dict__' of 'People' objects>, '__weakref__': <attribute '__weakref__' of 'People' objects>, '__doc__': None}\n"
     ]
    }
   ],
   "source": [
    "print(x.__dict__)\n",
    "print(y.__dict__)\n",
    "print(People.__dict__)"
   ]
  },
  {
   "cell_type": "code",
   "execution_count": 30,
   "metadata": {},
   "outputs": [],
   "source": [
    "People.gender = \"Male\""
   ]
  },
  {
   "cell_type": "code",
   "execution_count": 34,
   "metadata": {},
   "outputs": [
    {
     "name": "stdout",
     "output_type": "stream",
     "text": [
      "{'name': 'Rajat', 'age': 21}\n",
      "{'name': 'Anuj', 'age': 35}\n",
      "{'__module__': '__main__', '__dict__': <attribute '__dict__' of 'People' objects>, '__weakref__': <attribute '__weakref__' of 'People' objects>, '__doc__': None, 'gender': 'Male'}\n",
      "Male\n"
     ]
    }
   ],
   "source": [
    "print(x.__dict__)\n",
    "print(y.__dict__)\n",
    "print(People.__dict__)\n",
    "print(x.gender)\n",
    "# print(People.name)"
   ]
  },
  {
   "cell_type": "code",
   "execution_count": 37,
   "metadata": {},
   "outputs": [
    {
     "name": "stdout",
     "output_type": "stream",
     "text": [
      "rajat\n"
     ]
    }
   ],
   "source": [
    "# Methods : describe function of the object\n",
    "class A:\n",
    "    def __init__(self):\n",
    "        print(\"__init__ has been called\")\n",
    "    def __init__(self, name):\n",
    "        print(name)\n",
    "        \n",
    "x = A(\"rajat\")"
   ]
  },
  {
   "cell_type": "code",
   "execution_count": 39,
   "metadata": {},
   "outputs": [
    {
     "name": "stdout",
     "output_type": "stream",
     "text": [
      "Hi, I am a robot without a name\n",
      "Hi, I am Marvin\n"
     ]
    }
   ],
   "source": [
    "class Robot:\n",
    " \n",
    "    def __init__(self, name=None):\n",
    "        self.name = name   \n",
    "        \n",
    "    def say_hi(self):\n",
    "        if self.name:\n",
    "            print(\"Hi, I am \" + self.name)\n",
    "        else:\n",
    "            print(\"Hi, I am a robot without a name\")\n",
    "    \n",
    "\n",
    "x = Robot()\n",
    "x.say_hi()\n",
    "y = Robot(\"Marvin\")\n",
    "y.say_hi()"
   ]
  },
  {
   "cell_type": "code",
   "execution_count": 52,
   "metadata": {},
   "outputs": [
    {
     "name": "stdout",
     "output_type": "stream",
     "text": [
      "Hi, I am Henry\n",
      "I was built in 2008\n",
      "Hi, I am a robot without a name\n",
      "It's not known, when I was created!\n",
      "Hi, I am Henry\n",
      "I was built in 1994\n"
     ]
    }
   ],
   "source": [
    "# Data Abstraction = Data Encapsulation + Data Hiding \n",
    "class Robot:\n",
    " \n",
    "    def __init__(self, name=None,build_year=None):\n",
    "        self.name = name   \n",
    "        self.build_year = build_year\n",
    "        \n",
    "    def say_hi(self):\n",
    "        if self.name:\n",
    "            print(\"Hi, I am \" + self.name)\n",
    "        else:\n",
    "            print(\"Hi, I am a robot without a name\")\n",
    "        if self.build_year:\n",
    "            print(\"I was built in \" + str(self.build_year))\n",
    "        else:\n",
    "            print(\"It's not known, when I was created!\")\n",
    "        \n",
    "    \n",
    "    def set_name(self, name):\n",
    "        self.name = name\n",
    "        \n",
    "    def get_name(self):\n",
    "        return self.name    \n",
    "\n",
    "    def set_build_year(self, by):\n",
    "        self.build_year = by\n",
    "        \n",
    "    def get_build_year(self):\n",
    "        return self.build_year  \n",
    "    \n",
    "\n",
    "x = Robot(\"Henry\", 2008)\n",
    "y = Robot()\n",
    "# y.set_name(\"Marvin\")\n",
    "x.say_hi()\n",
    "y.say_hi()\n",
    "\n",
    "x.build_year = 1994\n",
    "x.say_hi()"
   ]
  },
  {
   "cell_type": "code",
   "execution_count": 43,
   "metadata": {},
   "outputs": [],
   "source": [
    "# name  Public\n",
    "# These attributes can be freely used inside or outside of a class definition.\n",
    "# _name  Protected\n",
    "# Protected attributes should not be used outside of the class definition, unless inside of a subclass definition. \n",
    "# __name    Private\n",
    "# This kind of attribute is inaccessible and invisible. It's neither possible to read nor write to those attributes, except inside of the class definition itself.\n",
    "class A():\n",
    "    \n",
    "    def __init__(self):\n",
    "        self.__priv = \"I am private\"\n",
    "        self._prot = \"I am protected\"\n",
    "        self.pub = \"I am public\"\n",
    "        "
   ]
  },
  {
   "cell_type": "code",
   "execution_count": 58,
   "metadata": {},
   "outputs": [
    {
     "name": "stdout",
     "output_type": "stream",
     "text": [
      "Hi, I am Henry\n",
      "I was built in 2008\n",
      "Hi, I am Henry\n",
      "I was built in 1994\n"
     ]
    }
   ],
   "source": [
    "class Robot:\n",
    " \n",
    "    def __init__(self, name=None,build_year=None):\n",
    "        self.__name = name   \n",
    "        self.__build_year = build_year\n",
    "        \n",
    "    def say_hi(self):\n",
    "        if self.__name:\n",
    "            print(\"Hi, I am \" + self.__name)\n",
    "        else:\n",
    "            print(\"Hi, I am a robot without a name\")\n",
    "        if self.__build_year:\n",
    "            print(\"I was built in \" + str(self.__build_year))\n",
    "        else:\n",
    "            print(\"It's not known, when I was created!\")\n",
    "        \n",
    "    \n",
    "    def set_name(self, name):\n",
    "        self.name = name\n",
    "        \n",
    "    def get_name(self):\n",
    "        return self.name    \n",
    "\n",
    "    def set_build_year(self, by):\n",
    "        self.__build_year = by\n",
    "        \n",
    "    def get_build_year(self):\n",
    "        return self.build_year \n",
    "\n",
    "x = Robot(\"Henry\", 2008)\n",
    "# y = Robot()\n",
    "# # y.set_name(\"Marvin\")\n",
    "x.say_hi()\n",
    "# y.say_hi()\n",
    "\n",
    "# x.build_year = 1994\n",
    "x.set_build_year(1994)\n",
    "x.say_hi()"
   ]
  },
  {
   "cell_type": "code",
   "execution_count": 59,
   "metadata": {},
   "outputs": [
    {
     "ename": "TypeError",
     "evalue": "sum() missing 1 required positional argument: 'z'",
     "output_type": "error",
     "traceback": [
      "\u001b[1;31m---------------------------------------------------------------------------\u001b[0m",
      "\u001b[1;31mTypeError\u001b[0m                                 Traceback (most recent call last)",
      "\u001b[1;32m<ipython-input-59-ce6d358f2667>\u001b[0m in \u001b[0;36m<module>\u001b[1;34m()\u001b[0m\n\u001b[0;32m      5\u001b[0m     \u001b[1;32mreturn\u001b[0m \u001b[0mx\u001b[0m\u001b[1;33m+\u001b[0m\u001b[0my\u001b[0m\u001b[1;33m+\u001b[0m\u001b[0mz\u001b[0m\u001b[1;33m\u001b[0m\u001b[0m\n\u001b[0;32m      6\u001b[0m \u001b[1;33m\u001b[0m\u001b[0m\n\u001b[1;32m----> 7\u001b[1;33m \u001b[0mprint\u001b[0m\u001b[1;33m(\u001b[0m\u001b[0msum\u001b[0m\u001b[1;33m(\u001b[0m\u001b[1;36m1\u001b[0m\u001b[1;33m,\u001b[0m\u001b[1;36m2\u001b[0m\u001b[1;33m)\u001b[0m\u001b[1;33m)\u001b[0m\u001b[1;33m\u001b[0m\u001b[0m\n\u001b[0m\u001b[0;32m      8\u001b[0m \u001b[0mprint\u001b[0m\u001b[1;33m(\u001b[0m\u001b[0msum\u001b[0m\u001b[1;33m(\u001b[0m\u001b[1;36m1\u001b[0m\u001b[1;33m,\u001b[0m\u001b[1;36m2\u001b[0m\u001b[1;33m,\u001b[0m\u001b[1;36m3\u001b[0m\u001b[1;33m)\u001b[0m\u001b[1;33m)\u001b[0m\u001b[1;33m\u001b[0m\u001b[0m\n",
      "\u001b[1;31mTypeError\u001b[0m: sum() missing 1 required positional argument: 'z'"
     ]
    }
   ],
   "source": [
    "def sum(x,y):\n",
    "    return x+y\n",
    "\n",
    "def sum(x,y,z):\n",
    "    return x+y+z\n",
    "\n",
    "print(sum(1,2))\n",
    "print(sum(1,2,3))"
   ]
  },
  {
   "cell_type": "code",
   "execution_count": null,
   "metadata": {},
   "outputs": [],
   "source": []
  }
 ],
 "metadata": {
  "kernelspec": {
   "display_name": "Python 3",
   "language": "python",
   "name": "python3"
  },
  "language_info": {
   "codemirror_mode": {
    "name": "ipython",
    "version": 3
   },
   "file_extension": ".py",
   "mimetype": "text/x-python",
   "name": "python",
   "nbconvert_exporter": "python",
   "pygments_lexer": "ipython3",
   "version": "3.6.4"
  }
 },
 "nbformat": 4,
 "nbformat_minor": 2
}
