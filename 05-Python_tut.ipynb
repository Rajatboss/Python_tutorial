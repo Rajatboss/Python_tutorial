{
 "cells": [
  {
   "cell_type": "markdown",
   "metadata": {},
   "source": [
    "## Lambda , Filter , reduce and map"
   ]
  },
  {
   "cell_type": "code",
   "execution_count": 37,
   "metadata": {},
   "outputs": [],
   "source": [
    "# Lambda\n",
    "# General Syntax\n",
    "# lambda argument_list: expression \n",
    "\n",
    "# without lambda\n",
    "def sum1(x,y):\n",
    "    return x+y\n",
    "\n",
    "#with lambda\n",
    "sum2 = lambda x,y:x+y"
   ]
  },
  {
   "cell_type": "code",
   "execution_count": 38,
   "metadata": {},
   "outputs": [
    {
     "name": "stdout",
     "output_type": "stream",
     "text": [
      "7\n",
      "7\n"
     ]
    }
   ],
   "source": [
    "print(sum1(3,4))\n",
    "print(sum2(3,4))"
   ]
  },
  {
   "cell_type": "code",
   "execution_count": 42,
   "metadata": {},
   "outputs": [
    {
     "name": "stdout",
     "output_type": "stream",
     "text": [
      "[1, 4, 9, 16, 25, 49]\n",
      "[1, 4, 9, 16, 25, 49]\n",
      "[3, 5, 7, 60, 12, 15]\n"
     ]
    }
   ],
   "source": [
    "# Map dunction\n",
    "# General syntax: map(func, seq,)\n",
    "\n",
    "l  = [1,2,3,4,5,7]\n",
    "# with lambda\n",
    "l1 = list(map(lambda x:x**2 , l))\n",
    "print(l1)\n",
    "\n",
    "# without lambda\n",
    "def square(x):\n",
    "    return x**2\n",
    "\n",
    "l2 = list(map(square, l))\n",
    "print(l2)\n",
    "\n",
    "l3 = [2,3,4,56,7,8]\n",
    "print(list(map(lambda x,y:x+y, l, l3)))"
   ]
  },
  {
   "cell_type": "code",
   "execution_count": 41,
   "metadata": {},
   "outputs": [
    {
     "name": "stdout",
     "output_type": "stream",
     "text": [
      "[1, 1, 3, 5, 13, 21, 55]\n"
     ]
    }
   ],
   "source": [
    "# Filtering\n",
    "# filter(function, sequence)\n",
    "'''this function offers an elegant way to filter out all the elements of a \n",
    "   sequence \"sequence\", for which the function function returns \n",
    "   True. i.e. an item will be produced by the iterator result of \n",
    "   filter(function, sequence) if item is included in the sequence \n",
    "   \"sequence\" and if function(item) returns True.\n",
    "'''\n",
    "\n",
    "fibonacci = [0,1,1,2,3,5,8,13,21,34,55]\n",
    "odd_number = list(filter(lambda x:x%2 != 0, fibonacci))\n",
    "print(odd_number)\n",
    "# even_numbers ="
   ]
  },
  {
   "cell_type": "code",
   "execution_count": 43,
   "metadata": {},
   "outputs": [
    {
     "data": {
      "text/plain": [
       "143"
      ]
     },
     "execution_count": 43,
     "metadata": {},
     "output_type": "execute_result"
    }
   ],
   "source": [
    "# reduce (func, seq)\n",
    "import functools\n",
    "\n",
    "fibonacci = [0,1,1,2,3,5,8,13,21,34,55]\n",
    "\n",
    "functools.reduce(lambda x,y : x+y, fibonacci)"
   ]
  },
  {
   "cell_type": "code",
   "execution_count": 46,
   "metadata": {},
   "outputs": [
    {
     "name": "stdout",
     "output_type": "stream",
     "text": [
      "[1, 4, 9, 16, 25, 36, 49, 64, 81]\n"
     ]
    }
   ],
   "source": [
    "# Comprehension\n",
    "\n",
    "# 1) list Comprehension\n",
    "# for i in range(10):\n",
    "#     print(i**2)\n",
    "\n",
    "l = range(1,10)\n",
    "l_sq = [i**2 for i in l]\n",
    "print(l_sq)"
   ]
  },
  {
   "cell_type": "code",
   "execution_count": 50,
   "metadata": {},
   "outputs": [
    {
     "data": {
      "text/plain": [
       "[(3, 4, 5),\n",
       " (4, 3, 5),\n",
       " (5, 12, 13),\n",
       " (6, 8, 10),\n",
       " (8, 6, 10),\n",
       " (8, 15, 17),\n",
       " (9, 12, 15),\n",
       " (12, 5, 13),\n",
       " (12, 9, 15),\n",
       " (15, 8, 17)]"
      ]
     },
     "execution_count": 50,
     "metadata": {},
     "output_type": "execute_result"
    }
   ],
   "source": [
    "[(x,y,z) for x in range(1,20) for y in range(1,20) for z in range(1,20) if x**2 + y**2 == z**2]\n",
    "# for i in range(1,20):\n",
    "#     for j in range(1,20):\n",
    "#         for k in range(1,20):\n",
    "#             if (i**2 + j**2 == k**2):\n",
    "#                 print(i,j,k)"
   ]
  },
  {
   "cell_type": "markdown",
   "metadata": {},
   "source": [
    "# Exception Handling\n",
    "### An exception is an error that happens during the execution of a program. Exceptions are known to non-programmers as instances that do not conform to a general rule."
   ]
  },
  {
   "cell_type": "code",
   "execution_count": 51,
   "metadata": {},
   "outputs": [
    {
     "name": "stdout",
     "output_type": "stream",
     "text": [
      "enter your age : 55.5\n"
     ]
    },
    {
     "ename": "ValueError",
     "evalue": "invalid literal for int() with base 10: '55.5'",
     "output_type": "error",
     "traceback": [
      "\u001b[1;31m---------------------------------------------------------------------------\u001b[0m",
      "\u001b[1;31mValueError\u001b[0m                                Traceback (most recent call last)",
      "\u001b[1;32m<ipython-input-51-b4b1beca1cb2>\u001b[0m in \u001b[0;36m<module>\u001b[1;34m()\u001b[0m\n\u001b[1;32m----> 1\u001b[1;33m \u001b[0mn\u001b[0m \u001b[1;33m=\u001b[0m \u001b[0mint\u001b[0m\u001b[1;33m(\u001b[0m\u001b[0minput\u001b[0m\u001b[1;33m(\u001b[0m\u001b[1;34m\"enter your age : \"\u001b[0m\u001b[1;33m)\u001b[0m\u001b[1;33m)\u001b[0m\u001b[1;33m\u001b[0m\u001b[0m\n\u001b[0m",
      "\u001b[1;31mValueError\u001b[0m: invalid literal for int() with base 10: '55.5'"
     ]
    }
   ],
   "source": [
    "n = int(input(\"enter your age : \"))"
   ]
  },
  {
   "cell_type": "code",
   "execution_count": 52,
   "metadata": {},
   "outputs": [
    {
     "name": "stdout",
     "output_type": "stream",
     "text": [
      "enter your age: 45.5\n",
      "Please enter an integer value\n",
      "\n",
      "enter your age: 45\n",
      "Great, you have successfully entered your age\n"
     ]
    }
   ],
   "source": [
    "while True:\n",
    "    try:\n",
    "        n = int(input('enter your age: '))\n",
    "        break\n",
    "    except ValueError:\n",
    "        print(\"Please enter an integer value\\n\")\n",
    "    \n",
    "print(\"Great, you have successfully entered your age\")"
   ]
  },
  {
   "cell_type": "code",
   "execution_count": 53,
   "metadata": {},
   "outputs": [
    {
     "name": "stdout",
     "output_type": "stream",
     "text": [
      "No such file in directory\n",
      "you are out of exception\n"
     ]
    }
   ],
   "source": [
    "try:\n",
    "    file = open('asdfasdfasdf.txt')\n",
    "except FileNotFoundError:\n",
    "    print(\"No such file in directory\")\n",
    "except:\n",
    "    print(\"An unexpected error occured\")\n",
    "    \n",
    "print('you are out of exception')"
   ]
  },
  {
   "cell_type": "code",
   "execution_count": 54,
   "metadata": {},
   "outputs": [
    {
     "name": "stdout",
     "output_type": "stream",
     "text": [
      "age? : 45\n",
      "exception has occured\n"
     ]
    }
   ],
   "source": [
    "#Custom-made Exceptions\n",
    "class my_exception(Exception):\n",
    "    pass\n",
    "\n",
    "try:\n",
    "    n = int(input('age? : '))\n",
    "    if n>40:\n",
    "        raise my_exception\n",
    "except my_exception:\n",
    "    print('exception has occured')\n",
    "\n"
   ]
  },
  {
   "cell_type": "code",
   "execution_count": 55,
   "metadata": {},
   "outputs": [
    {
     "name": "stdout",
     "output_type": "stream",
     "text": [
      "Your number: 0\n",
      "There may or may not have been an exception.\n"
     ]
    },
    {
     "ename": "ZeroDivisionError",
     "evalue": "float division by zero",
     "output_type": "error",
     "traceback": [
      "\u001b[1;31m---------------------------------------------------------------------------\u001b[0m",
      "\u001b[1;31mZeroDivisionError\u001b[0m                         Traceback (most recent call last)",
      "\u001b[1;32m<ipython-input-55-3a2b847e7890>\u001b[0m in \u001b[0;36m<module>\u001b[1;34m()\u001b[0m\n\u001b[0;32m      2\u001b[0m \u001b[1;32mtry\u001b[0m\u001b[1;33m:\u001b[0m\u001b[1;33m\u001b[0m\u001b[0m\n\u001b[0;32m      3\u001b[0m     \u001b[0mx\u001b[0m \u001b[1;33m=\u001b[0m \u001b[0mfloat\u001b[0m\u001b[1;33m(\u001b[0m\u001b[0minput\u001b[0m\u001b[1;33m(\u001b[0m\u001b[1;34m\"Your number: \"\u001b[0m\u001b[1;33m)\u001b[0m\u001b[1;33m)\u001b[0m\u001b[1;33m\u001b[0m\u001b[0m\n\u001b[1;32m----> 4\u001b[1;33m     \u001b[0minverse\u001b[0m \u001b[1;33m=\u001b[0m \u001b[1;36m1.0\u001b[0m \u001b[1;33m/\u001b[0m \u001b[0mx\u001b[0m\u001b[1;33m\u001b[0m\u001b[0m\n\u001b[0m\u001b[0;32m      5\u001b[0m \u001b[1;32mfinally\u001b[0m\u001b[1;33m:\u001b[0m\u001b[1;33m\u001b[0m\u001b[0m\n\u001b[0;32m      6\u001b[0m     \u001b[0mprint\u001b[0m\u001b[1;33m(\u001b[0m\u001b[1;34m\"There may or may not have been an exception.\"\u001b[0m\u001b[1;33m)\u001b[0m\u001b[1;33m\u001b[0m\u001b[0m\n",
      "\u001b[1;31mZeroDivisionError\u001b[0m: float division by zero"
     ]
    }
   ],
   "source": [
    "#finally\n",
    "try:\n",
    "    x = float(input(\"Your number: \"))\n",
    "    inverse = 1.0 / x\n",
    "finally:\n",
    "    print(\"There may or may not have been an exception.\")\n",
    "\n",
    "print(\"The inverse: \", inverse)"
   ]
  },
  {
   "cell_type": "code",
   "execution_count": null,
   "metadata": {},
   "outputs": [],
   "source": []
  }
 ],
 "metadata": {
  "kernelspec": {
   "display_name": "Python 3",
   "language": "python",
   "name": "python3"
  },
  "language_info": {
   "codemirror_mode": {
    "name": "ipython",
    "version": 3
   },
   "file_extension": ".py",
   "mimetype": "text/x-python",
   "name": "python",
   "nbconvert_exporter": "python",
   "pygments_lexer": "ipython3",
   "version": "3.6.4"
  }
 },
 "nbformat": 4,
 "nbformat_minor": 2
}
