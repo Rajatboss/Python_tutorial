{
 "cells": [
  {
   "cell_type": "code",
   "execution_count": 42,
   "metadata": {},
   "outputs": [
    {
     "data": {
      "text/plain": [
       "7"
      ]
     },
     "execution_count": 42,
     "metadata": {},
     "output_type": "execute_result"
    }
   ],
   "source": [
    "'''\n",
    "The most recent output value is automatically stored by the interpreter in a special variable with the name \"_\".\n",
    "So we can print the output from the recent example again by typing an underscore after the prompt\n",
    "'''\n",
    "5+2"
   ]
  },
  {
   "cell_type": "code",
   "execution_count": 43,
   "metadata": {},
   "outputs": [
    {
     "data": {
      "text/plain": [
       "14"
      ]
     },
     "execution_count": 43,
     "metadata": {},
     "output_type": "execute_result"
    }
   ],
   "source": [
    "_*2"
   ]
  },
  {
   "cell_type": "markdown",
   "metadata": {},
   "source": [
    "## Q- Is python a compiled or interpreted language?\n",
    "### Ans:- Python is both an interpreted and a compiled language. But calling Python a compiled language would be misleading. People would assume that the compiler translates the Python code into machine language. Python code is translated into intermediate code, which has to be executed by a virtual machine, known as the PVM(Python virtual machine). This is a similar approach to the one taken by Java.\n",
    "\n",
    "![alt text](py_pyc_overview.gif \"Title\")"
   ]
  },
  {
   "cell_type": "markdown",
   "metadata": {},
   "source": [
    "## Indentation\n",
    "### Python programs get structured through indentation, i.e. code blocks are defined by their indentation. All statements with the same distance to the right belong to the same block of code, i.e. the statements within a block line up vertically. The block ends at a line less indented or the end of the file. If a block has to be more deeply nested, it is simply indented further to the right\n",
    "\n",
    "![alt text](blocks.png \"Title\")"
   ]
  },
  {
   "cell_type": "code",
   "execution_count": 46,
   "metadata": {},
   "outputs": [
    {
     "name": "stdout",
     "output_type": "stream",
     "text": [
      "6\n"
     ]
    }
   ],
   "source": [
    "#Indentation\n",
    "sum = 0\n",
    "for i in range(4):\n",
    "    i = int(i)\n",
    "    sum = sum+i\n",
    "    \n",
    "print(sum)"
   ]
  },
  {
   "cell_type": "code",
   "execution_count": 49,
   "metadata": {},
   "outputs": [
    {
     "name": "stdout",
     "output_type": "stream",
     "text": [
      "1776119616\n",
      "1776119616\n"
     ]
    }
   ],
   "source": [
    "# a variable is just a reference to an object in python\n",
    "x = 12\n",
    "y = 12\n",
    "print(id(x))\n",
    "print(id(y))"
   ]
  },
  {
   "cell_type": "code",
   "execution_count": 50,
   "metadata": {},
   "outputs": [
    {
     "name": "stdout",
     "output_type": "stream",
     "text": [
      "12\n",
      "0b10\n",
      "0o14\n",
      "0xc\n"
     ]
    }
   ],
   "source": [
    "#data types: numbers (Integer, float, complex) and strings\n",
    "#types of integer in python\n",
    "\n",
    "print(12)\n",
    "print(bin(2))\n",
    "print(oct(12))\n",
    "print(hex(12))"
   ]
  },
  {
   "cell_type": "code",
   "execution_count": 51,
   "metadata": {},
   "outputs": [
    {
     "name": "stdout",
     "output_type": "stream",
     "text": [
      "(7-1j)\n"
     ]
    }
   ],
   "source": [
    "'''\n",
    "there is nothing of the type long in python (integer in python can be of any size)\n",
    "other than integer we have:-\n",
    "- floating numbers\n",
    "- complex numbers\n",
    "'''\n",
    "x = 3 + 4j\n",
    "y = 4 - 5j\n",
    "print(x+y)"
   ]
  },
  {
   "cell_type": "code",
   "execution_count": 55,
   "metadata": {},
   "outputs": [
    {
     "name": "stdout",
     "output_type": "stream",
     "text": [
      "3.3333333333333335\n",
      "4\n"
     ]
    }
   ],
   "source": [
    "# true division is done by / operator whereas floor division(Integer division) is done by // \n",
    "print(10/3)         #True division\n",
    "print(10//3)        #Floor division "
   ]
  },
  {
   "cell_type": "code",
   "execution_count": 59,
   "metadata": {},
   "outputs": [
    {
     "name": "stdout",
     "output_type": "stream",
     "text": [
      "anuj \t sir's bike\n"
     ]
    }
   ],
   "source": [
    "#escape character (\\)\n",
    "print('anuj \\t sir\\'s bike')"
   ]
  },
  {
   "cell_type": "code",
   "execution_count": 64,
   "metadata": {},
   "outputs": [
    {
     "name": "stdout",
     "output_type": "stream",
     "text": [
      "True\n"
     ]
    }
   ],
   "source": [
    "# \"is\" operator tests if two variables point the same object, not if two variables have the same value.\n",
    "x = 'rajat'\n",
    "y = 'rajat'\n",
    "print(x is y)"
   ]
  },
  {
   "cell_type": "markdown",
   "metadata": {},
   "source": [
    "# String Indices\n",
    "\n",
    "![alt text](string_indices.gif \"Title\")\n",
    "![alt text](string_indices_negative.png \"Title\")"
   ]
  },
  {
   "cell_type": "code",
   "execution_count": 76,
   "metadata": {},
   "outputs": [
    {
     "name": "stdout",
     "output_type": "stream",
     "text": [
      "rajat anuj\n",
      "rajatrajatrajat\n",
      "t\n",
      "rjt\n",
      "5\n"
     ]
    }
   ],
   "source": [
    "# Strings are immutable\n",
    "a = 'rajat'\n",
    "b = ' anuj'\n",
    "# 1) Concatination 2) Repetition 3) Indexing 4) Slicing 5) Size\n",
    "print(a+b)\n",
    "print(a*3)\n",
    "print(a[-1])\n",
    "print(a[::2]) #a[start:end:step]\n",
    "print(len(a))"
   ]
  },
  {
   "cell_type": "code",
   "execution_count": 77,
   "metadata": {},
   "outputs": [
    {
     "name": "stdout",
     "output_type": "stream",
     "text": [
      "7\n",
      "1\n",
      "12\n",
      "1.3333333333333333\n",
      "1\n",
      "64\n",
      "-4\n",
      "False\n",
      "True\n",
      "False\n"
     ]
    }
   ],
   "source": [
    "# Operators in python\n",
    "x = 4\n",
    "y = 3\n",
    "print(x+y)\n",
    "print(x-y)\n",
    "print(x*y)\n",
    "print(x/y)\n",
    "print(x//y)\n",
    "print(x**y)\n",
    "print(-x)\n",
    "\n",
    "#boolean data types\n",
    "\n",
    "x = True\n",
    "y = False\n",
    "print(x and y) #||\n",
    "print(x or y)\n",
    "print(not x)"
   ]
  },
  {
   "cell_type": "code",
   "execution_count": 79,
   "metadata": {},
   "outputs": [
    {
     "name": "stdout",
     "output_type": "stream",
     "text": [
      "8\n"
     ]
    }
   ],
   "source": [
    "#shift operator\n",
    "x = 2\n",
    "print(x<<2)"
   ]
  },
  {
   "cell_type": "code",
   "execution_count": null,
   "metadata": {},
   "outputs": [],
   "source": []
  }
 ],
 "metadata": {
  "kernelspec": {
   "display_name": "Python 3",
   "language": "python",
   "name": "python3"
  },
  "language_info": {
   "codemirror_mode": {
    "name": "ipython",
    "version": 3
   },
   "file_extension": ".py",
   "mimetype": "text/x-python",
   "name": "python",
   "nbconvert_exporter": "python",
   "pygments_lexer": "ipython3",
   "version": "3.6.4"
  }
 },
 "nbformat": 4,
 "nbformat_minor": 2
}
