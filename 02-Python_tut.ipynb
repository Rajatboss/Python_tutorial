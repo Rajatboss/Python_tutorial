{
 "cells": [
  {
   "cell_type": "markdown",
   "metadata": {},
   "source": [
    "# Sequence data types\n",
    "## Sequences are one of the principal built-in data types besides numerics, mappings, files, instances and exceptions. Python provides for six sequence (or sequential) data types:\n",
    "### 1) strings\n",
    "### 2) byte sequences\n",
    "### 3) byte arrays\n",
    "### 4) lists\n",
    "### 5) tuples\n",
    "### 6) range objects "
   ]
  },
  {
   "cell_type": "code",
   "execution_count": 1,
   "metadata": {},
   "outputs": [
    {
     "name": "stdout",
     "output_type": "stream",
     "text": [
      "['12', 1, 12.3]\n",
      "1\n",
      "2\n",
      "[[[2, 3, 4, 4], 5], 4]\n"
     ]
    }
   ],
   "source": [
    "# Python List\n",
    "\n",
    "#An empty list of zero size\n",
    "li = []\n",
    "\n",
    "#An empty list of variable size\n",
    "li = [None]*10\n",
    "li[1] = 5\n",
    "\n",
    "\n",
    "#A list of mixed data types\n",
    "li = ['12' , 1, 12.3]\n",
    "print(li)\n",
    "\n",
    "#A nested list\n",
    "li = [1,2,4,5,[1,2,4]]\n",
    "print(li[4][0])\n",
    "\n",
    "#A deeply nested list\n",
    "li = [[[2,3,4,4],5],6]\n",
    "print(li[0][0][0])\n",
    "li[1] = 4\n",
    "print(li)"
   ]
  },
  {
   "cell_type": "code",
   "execution_count": 73,
   "metadata": {},
   "outputs": [
    {
     "name": "stdout",
     "output_type": "stream",
     "text": [
      "0\n",
      "4\n",
      "5\n",
      "6\n"
     ]
    }
   ],
   "source": [
    "li = [0,4,5,6]\n",
    "for i in range(0,len(li)):\n",
    "    print(li[i])"
   ]
  },
  {
   "cell_type": "code",
   "execution_count": 62,
   "metadata": {},
   "outputs": [],
   "source": [
    "#Tuple \n",
    "#A tuple is an immutable list, i.e. a tuple cannot be changed in any way once it has been created. A tuple is defined analogously to lists, except that the set of elements is enclosed in parentheses instead of square brackets.\n",
    "#Tuples are faster than lists.\n",
    "#The main advantage of tuples over list is, tuples can be used as keys in dictionaries, while lists can't.\n",
    "t = ('rajat', 'anuj')"
   ]
  },
  {
   "cell_type": "code",
   "execution_count": 66,
   "metadata": {},
   "outputs": [
    {
     "name": "stdout",
     "output_type": "stream",
     "text": [
      "[1, 3, 56, 8]\n"
     ]
    }
   ],
   "source": [
    "#slicing  s[begin: end: step]\n",
    "li = [1,2,3,4,56,7,8,9]\n",
    "print(li[::2])"
   ]
  },
  {
   "cell_type": "code",
   "execution_count": 68,
   "metadata": {},
   "outputs": [
    {
     "name": "stdout",
     "output_type": "stream",
     "text": [
      "2\n"
     ]
    }
   ],
   "source": [
    "#length\n",
    "print(len(t))"
   ]
  },
  {
   "cell_type": "code",
   "execution_count": 70,
   "metadata": {},
   "outputs": [
    {
     "name": "stdout",
     "output_type": "stream",
     "text": [
      "[1, 2, 3, 4, 5, 6, 7]\n"
     ]
    }
   ],
   "source": [
    "#Concatenation of Sequences\n",
    "list1 = [1,2,3,4,5]\n",
    "list2 = [6,7]\n",
    "print(list1+list2)"
   ]
  },
  {
   "cell_type": "code",
   "execution_count": 77,
   "metadata": {},
   "outputs": [
    {
     "name": "stdout",
     "output_type": "stream",
     "text": [
      "[7, 2, 3, 5, 1, 2, 3, 5]\n"
     ]
    }
   ],
   "source": [
    "#Checking if an Element is Contained in List\n",
    "a = [1,2,3,5]\n",
    "b = a*2\n",
    "print(b)"
   ]
  },
  {
   "cell_type": "markdown",
   "metadata": {},
   "source": [
    "![alt text](repetitions.png \"Title\")"
   ]
  },
  {
   "cell_type": "code",
   "execution_count": 2,
   "metadata": {},
   "outputs": [
    {
     "name": "stdout",
     "output_type": "stream",
     "text": [
      "[[1, 2, 3], [1, 2, 3]]\n",
      "[[3, 2, 3], [3, 2, 3]]\n"
     ]
    }
   ],
   "source": [
    "#Repetitions\n",
    "\n",
    "#The ptfall of repetitions"
   ]
  },
  {
   "cell_type": "markdown",
   "metadata": {},
   "source": [
    "# List manipulation"
   ]
  },
  {
   "cell_type": "code",
   "execution_count": 82,
   "metadata": {},
   "outputs": [
    {
     "name": "stdout",
     "output_type": "stream",
     "text": [
      "2\n",
      "[34, 6, 7, 8]\n",
      "[34, 6, 7, 8, 2]\n",
      "2\n",
      "[34, 6, 7, 8]\n",
      "[34, 6, 7, 8, [6, 7]]\n"
     ]
    }
   ],
   "source": [
    "# pop and append\n",
    "list1 = [2,34,6,7,8]\n",
    "elem = list1.pop(0)\n",
    "print(elem)\n",
    "print(list1)\n",
    "list1.append(2)\n",
    "print(list1)\n",
    "\n",
    "# Append method appends an element to the end of the list \"s\"\n",
    "\n",
    "# pop(i) pop' returns the ith element of a list and remove it from the list as well. \n",
    "# pop() return last element of list and remove it from list\n",
    "elem = list1.pop()\n",
    "print(elem)\n",
    "print(list1)\n",
    "\n",
    "list2 = [6,7]\n",
    "list1.append(list2)\n",
    "print(list1)"
   ]
  },
  {
   "cell_type": "code",
   "execution_count": 83,
   "metadata": {},
   "outputs": [
    {
     "name": "stdout",
     "output_type": "stream",
     "text": [
      "[2, 34, 6, 7, 8, 7, 9]\n"
     ]
    }
   ],
   "source": [
    "#extend: when adding a list to a list\n",
    "list1 = [2,34,6,7,8]\n",
    "list2 = [7,9]\n",
    "list1.extend(list2)\n",
    "print(list1)"
   ]
  },
  {
   "cell_type": "code",
   "execution_count": 84,
   "metadata": {},
   "outputs": [
    {
     "data": {
      "text/plain": [
       "[2, 34, 6, 7, 8, 7, 9, 7, 9]"
      ]
     },
     "execution_count": 84,
     "metadata": {},
     "output_type": "execute_result"
    }
   ],
   "source": [
    "#extending and appending list with + operator\n",
    "list1+list2"
   ]
  },
  {
   "cell_type": "code",
   "execution_count": 85,
   "metadata": {},
   "outputs": [
    {
     "name": "stdout",
     "output_type": "stream",
     "text": [
      "48.96088647842407\n",
      "0.01894521713256836\n",
      "0.01705455780029297\n"
     ]
    }
   ],
   "source": [
    "'''\n",
    "never use '+' as an alternative of the append and extend instead you can use '+=' in place of that\n",
    "\n",
    "-If we use the append method, we will simply append a further element to the list in each loop pass\n",
    "\n",
    "-In '+' The list will be copied in every loop pass. The new element will be added to the copy of the list and \n",
    "result will be reassigned to the variable l. After this the old list will have to be removed by Python, \n",
    "because it is not referenced anymore\n",
    "\n",
    "'''\n",
    "\n",
    "import time\n",
    "\n",
    "n= 100000\n",
    "\n",
    "start_time = time.time()\n",
    "l = []\n",
    "for i in range(n):\n",
    "    l = l + [i]\n",
    "\n",
    "finish = time.time()\n",
    "print(finish - start_time)\n",
    "\n",
    "start_time = time.time()\n",
    "l = []\n",
    "for i in range(n):\n",
    "    l += [i]\n",
    "\n",
    "\n",
    "finish = time.time()\n",
    "print(finish - start_time)\n",
    "\n",
    "start_time = time.time()\n",
    "l = []\n",
    "for i in range(n):\n",
    "    l.append(i)\n",
    "\n",
    "\n",
    "finish = time.time()\n",
    "print(finish - start_time)"
   ]
  },
  {
   "cell_type": "code",
   "execution_count": 90,
   "metadata": {},
   "outputs": [
    {
     "name": "stdout",
     "output_type": "stream",
     "text": [
      "[2, 6, 7, 8]\n",
      "[2, 6, 7, 8, 34]\n"
     ]
    }
   ],
   "source": [
    "#removing an element\n",
    "list1 = [2,34,6,7,8]\n",
    "list1.remove(34)\n",
    "print(list1)\n",
    "#it will remove the first occurence of the element from the sequence\n",
    "list1 = [2,34,6,7,8,34]\n",
    "list1.remove(34)\n",
    "print(list1)"
   ]
  },
  {
   "cell_type": "code",
   "execution_count": 99,
   "metadata": {},
   "outputs": [
    {
     "name": "stdout",
     "output_type": "stream",
     "text": [
      "4\n"
     ]
    }
   ],
   "source": [
    "#finding the position of an element in a list\n",
    "#.index(x[, i[, j]])\n",
    "print(list1.index(34,0,5))"
   ]
  },
  {
   "cell_type": "code",
   "execution_count": 100,
   "metadata": {},
   "outputs": [
    {
     "name": "stdout",
     "output_type": "stream",
     "text": [
      "[2, 6, 56, 7, 8, 34]\n"
     ]
    }
   ],
   "source": [
    "#to insert an element at a specific position\n",
    "#insert(index, object)\n",
    "list1.insert(2,56)\n",
    "print(list1)"
   ]
  },
  {
   "cell_type": "code",
   "execution_count": 18,
   "metadata": {},
   "outputs": [],
   "source": [
    "#shallow list and deep list"
   ]
  },
  {
   "cell_type": "markdown",
   "metadata": {},
   "source": [
    "## this is copy with assignment operator\n",
    "\n",
    "![alt text](deep_copy_detailed1.png \"Title\")\n",
    "\n",
    "## copy with slice operator,i.e., shallow copy\n",
    "![alt text](deep_copy_detailed3.png \"Title\")\n",
    "\n",
    "## deep copy \n",
    "![alt text](deep_copy_detailed7.png \"Title\")"
   ]
  },
  {
   "cell_type": "code",
   "execution_count": 108,
   "metadata": {},
   "outputs": [
    {
     "name": "stdout",
     "output_type": "stream",
     "text": [
      "[7, 3, 4, 7, 9]\n",
      "[7, 3, 4, 78, 9]\n",
      "[7, 3, 4, 7, 9]\n",
      "[2, 3, 4, 5, 6, [45, 6, 4, 4]]\n",
      "[2, 3, 4, 5, 6, [7, 6, 4, 4]]\n"
     ]
    }
   ],
   "source": [
    "list1 = [2,3,4,7,9]\n",
    "list2 = list1\n",
    "# print(list2)\n",
    "list1[0] = 7\n",
    "print(list2)\n",
    "# = for copying wth assignment operator\n",
    "\n",
    "list3 = list1[:]\n",
    "list1[3] = 78\n",
    "print(list1)\n",
    "print(list3)\n",
    "# : for shallow copy\n",
    "\n",
    "list4 = [2,3,4,5,6,[7,6,4,4]]\n",
    "list5 = list4[:]\n",
    "list4[5][0] = 45\n",
    "print(list5)\n",
    "\n",
    "# deepcopy(list) for deep copy\n",
    "import copy\n",
    "list4 = [2,3,4,5,6,[7,6,4,4]]\n",
    "list6 = copy.deepcopy(list4)\n",
    "list4[5][1] = 32\n",
    "print(list6)"
   ]
  },
  {
   "cell_type": "markdown",
   "metadata": {},
   "source": [
    "## Dictonaries\n",
    "### dictionaries are unordered sets in which the items are accessed via keys and not via their position. Dictionaries are implemented as hash tables, and that is the reason that only immutable data types can be used as keys."
   ]
  },
  {
   "cell_type": "code",
   "execution_count": 5,
   "metadata": {},
   "outputs": [
    {
     "name": "stdout",
     "output_type": "stream",
     "text": [
      "{'ham': 'asdkasd', 'egg': 'yes', 'spam': 'no'}\n",
      "{'ham': 'asdkasd', 'egg': 'yes', 'spam': 'no', 'italian': 'India'}\n"
     ]
    }
   ],
   "source": [
    "#create an empty dictionary\n",
    "food = {}\n",
    "payer = {}\n",
    "\n",
    "#creating a dictionary\n",
    "food = {\"ham\" : \"yes\", \"egg\" : \"yes\", \"spam\" : \"no\"}\n",
    "food[\"ham\"] = \"asdkasd\"\n",
    "print(food)\n",
    "\n",
    "#inserting a new key in a dictionary\n",
    "food['italian'] = 'India'\n",
    "print(food)"
   ]
  },
  {
   "cell_type": "code",
   "execution_count": 12,
   "metadata": {},
   "outputs": [
    {
     "name": "stdout",
     "output_type": "stream",
     "text": [
      "3\n",
      "dict_keys(['egg', 'spam', 'italian'])\n",
      "dict_values(['yes', 'no', 'India'])\n",
      "True\n"
     ]
    }
   ],
   "source": [
    "# len(d)\n",
    "print(len(food))\n",
    "# returns the number of stored entries, i.e. the number of (key,value) pairs.\n",
    "\n",
    "# # del d[k]\n",
    "# del food['ham']\n",
    "# print(food)\n",
    "\n",
    "# deletes the key k together with his value\n",
    "\n",
    "# k in d\n",
    "li = food.keys()\n",
    "print(li)\n",
    "\n",
    "li = food.values()\n",
    "print(li)\n",
    "# True, if a key k exists in the dictionary d\n",
    "print('egg' in food)\n",
    "\n",
    "# k not in d\n",
    "# True, if a key k doesn't exist in the dictionary d\n"
   ]
  },
  {
   "cell_type": "code",
   "execution_count": 23,
   "metadata": {},
   "outputs": [
    {
     "name": "stdout",
     "output_type": "stream",
     "text": [
      "{'ham': 'yes', 'spam': 'no'}\n"
     ]
    }
   ],
   "source": [
    "#D.pop(key) delete (key, value) pair from dict. \n",
    "food = {\"ham\" : \"yes\", \"egg\" : \"yes\", \"spam\" : \"no\"}\n",
    "food.pop('egg')\n",
    "# print(key, values)\n",
    "print(food)"
   ]
  },
  {
   "cell_type": "code",
   "execution_count": 20,
   "metadata": {},
   "outputs": [
    {
     "name": "stdout",
     "output_type": "stream",
     "text": [
      "spam no\n",
      "{'ham': 'yes'}\n"
     ]
    }
   ],
   "source": [
    "#D.popitem() doesn't take any parameter and removes and returns an arbitrary (key,value) pair as a 2-tuple\n",
    "key, value = food.popitem()\n",
    "print(key, value)\n",
    "print(food)"
   ]
  },
  {
   "cell_type": "code",
   "execution_count": 25,
   "metadata": {},
   "outputs": [
    {
     "name": "stdout",
     "output_type": "stream",
     "text": [
      "{'ham': 'yes', 'spam': 'no'}\n"
     ]
    }
   ],
   "source": [
    "#copying a dictionary with .copy() method will create shallow copy \n",
    "food2 = food.copy()\n",
    "print(food2)"
   ]
  },
  {
   "cell_type": "code",
   "execution_count": 28,
   "metadata": {},
   "outputs": [
    {
     "name": "stdout",
     "output_type": "stream",
     "text": [
      "{}\n"
     ]
    }
   ],
   "source": [
    "#.clear() method clear all the elements of the dictionary\n",
    "food2.clear()\n",
    "print(food2)"
   ]
  },
  {
   "cell_type": "code",
   "execution_count": 30,
   "metadata": {},
   "outputs": [
    {
     "name": "stdout",
     "output_type": "stream",
     "text": [
      "{'Frank': {'Python', 'Perl'}, 'Monica': {'C', 'C++'}, 'Guido': {'Python'}}\n"
     ]
    }
   ],
   "source": [
    "#Update : Merging Dictionaries\n",
    "knowledge = {\"Frank\": {\"Perl\"}, \"Monica\":{\"C\",\"C++\"}}\n",
    "knowledge2 = {\"Guido\":{\"Python\"}, \"Frank\":{\"Perl\", \"Python\"}}\n",
    "knowledge.update(knowledge2)\n",
    "print(knowledge)"
   ]
  },
  {
   "cell_type": "code",
   "execution_count": 32,
   "metadata": {},
   "outputs": [
    {
     "name": "stdout",
     "output_type": "stream",
     "text": [
      "('ham', 'yes')\n",
      "('spam', 'no')\n",
      "yes\n",
      "no\n",
      "ham\n",
      "spam\n"
     ]
    }
   ],
   "source": [
    "#Interating over a dictionary\n",
    "for k in food.items():\n",
    "    print(k)\n",
    "    \n",
    "for v in food.values():\n",
    "    print(v)\n",
    "    \n",
    "for keys in food.keys():\n",
    "    print(keys)"
   ]
  },
  {
   "cell_type": "code",
   "execution_count": 35,
   "metadata": {},
   "outputs": [
    {
     "name": "stdout",
     "output_type": "stream",
     "text": [
      "[('Frank', 'Perl'), ('Monica', 'C')]\n",
      "['Frank', 'Monica']\n",
      "['Perl', 'C']\n"
     ]
    }
   ],
   "source": [
    "#connection between list and dictionary\n",
    "knowledge = {\"Frank\": \"Perl\", \"Monica\": \"C\"}\n",
    "list1 = list(knowledge.items())\n",
    "print(list1)\n",
    "# print(list2)\n",
    "\n",
    "list1 = list(knowledge.keys())\n",
    "print(list1)\n",
    "\n",
    "list2 = list(knowledge.values())\n",
    "print(list2)"
   ]
  },
  {
   "cell_type": "code",
   "execution_count": 46,
   "metadata": {},
   "outputs": [
    {
     "name": "stdout",
     "output_type": "stream",
     "text": [
      "{'pizza': 'Italy', 'sauerkraut': 'Germany', 'paella': 'Spain', 'hamburger': 'USA'}\n",
      "('pizza', 'sauerkraut', 'paella', 'hamburger') ('Italy', 'Germany', 'Spain', 'USA')\n"
     ]
    }
   ],
   "source": [
    "#turn list into dictionaries\n",
    "dishes = [\"pizza\", \"sauerkraut\", \"paella\", \"hamburger\",'djadshf','kjhdfkj']\n",
    "countries = [\"Italy\", \"Germany\", \"Spain\", \"USA\"]\n",
    "\n",
    "country = zip(dishes, countries)\n",
    "print(dict(country))\n",
    "\n",
    "di,co= zip(*zip(dishes, countries))\n",
    "print(di, co)"
   ]
  },
  {
   "cell_type": "code",
   "execution_count": 50,
   "metadata": {},
   "outputs": [
    {
     "name": "stdout",
     "output_type": "stream",
     "text": [
      "{'pizza': 'Italy', 1: 'spain', 'paratha': 'punjabi'}\n"
     ]
    }
   ],
   "source": [
    "dishes = {'pizza': 'Italy', 1: 'spain', 'paratha': 'punjabi'}\n",
    "print(dishes)"
   ]
  },
  {
   "cell_type": "markdown",
   "metadata": {},
   "source": [
    "## Sets\n",
    "### Sets are implemented in a way, which doesn't allow mutable objects"
   ]
  },
  {
   "cell_type": "code",
   "execution_count": null,
   "metadata": {},
   "outputs": [],
   "source": []
  },
  {
   "cell_type": "code",
   "execution_count": 54,
   "metadata": {},
   "outputs": [
    {
     "name": "stdout",
     "output_type": "stream",
     "text": [
      "{'Frankfurt', 'Strasbourg', (1, 2, 3), 'Basel', 'Freiburg'}\n"
     ]
    }
   ],
   "source": [
    "#Though sets can't contain mutable objects, sets are mutable\n",
    "cities = set([\"Frankfurt\", \"Basel\",\"Freiburg\",(1,2,3)])\n",
    "cities.add(\"Strasbourg\")\n",
    "print(cities)"
   ]
  },
  {
   "cell_type": "code",
   "execution_count": 59,
   "metadata": {},
   "outputs": [
    {
     "name": "stdout",
     "output_type": "stream",
     "text": [
      "{'Frankfurt', 'Strasbourg', (1, 2, 3), 'Basel', 'Freiburg'}\n",
      "set()\n",
      "{'Basel', 'Freiburg', (1, 2, 3), 'Frankfurt'}\n",
      "{(1, 2, 3)}\n",
      "{'Frankfurt', 'Basel', 'Freiburg', (1, 2, 3)}\n",
      "{'Frankfurt', 'Freiburg'}\n",
      "False\n",
      "False\n",
      "False\n"
     ]
    }
   ],
   "source": [
    "#operations on sets\n",
    "\n",
    "#add(el)\n",
    "cities.add(\"Strasbourg\")\n",
    "print(cities)\n",
    "\n",
    "#clear()\n",
    "cities.clear()\n",
    "print(cities)\n",
    "# # copy()\n",
    "cities = set([\"Frankfurt\", \"Basel\",\"Freiburg\",(1,2,3)])\n",
    "cities2 = cities.copy()\n",
    "print(cities2)\n",
    "\n",
    "# difference(set2)\n",
    "cities2 = set([\"Frankfurt\", \"Basel\",\"Freiburg\"])\n",
    "print(cities-cities2)\n",
    "\n",
    "# discard(el) or remove(el)\n",
    "cities.remove('Basel')\n",
    "# union(s)\n",
    "print(cities.union(cities2))\n",
    "# intersection(s)\n",
    "print(cities.intersection(cities2))\n",
    "# isdisjoint(s)\n",
    "print(cities.isdisjoint(cities2))\n",
    "# isubset(s)\n",
    "print(cities.issubset(cities2))\n",
    "# issuperset()\n",
    "print(cities.issuperset(cities2))"
   ]
  },
  {
   "cell_type": "code",
   "execution_count": null,
   "metadata": {},
   "outputs": [],
   "source": [
    "# Frozensets are like sets except that they cannot be changed, i.e.\n",
    "#they are immutable\n",
    "\n"
   ]
  }
 ],
 "metadata": {
  "kernelspec": {
   "display_name": "Python 3",
   "language": "python",
   "name": "python3"
  },
  "language_info": {
   "codemirror_mode": {
    "name": "ipython",
    "version": 3
   },
   "file_extension": ".py",
   "mimetype": "text/x-python",
   "name": "python",
   "nbconvert_exporter": "python",
   "pygments_lexer": "ipython3",
   "version": "3.6.4"
  }
 },
 "nbformat": 4,
 "nbformat_minor": 2
}
