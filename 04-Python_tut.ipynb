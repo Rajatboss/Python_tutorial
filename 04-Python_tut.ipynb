{
 "cells": [
  {
   "cell_type": "code",
   "execution_count": 55,
   "metadata": {},
   "outputs": [
    {
     "name": "stdout",
     "output_type": "stream",
     "text": [
      "Web pages are text files and are easy to download. For\n",
      "example, to save the file that you are reading right now,\n",
      "click \"File--Save As\" on your browser's toolbar, and save the\n",
      "file on your hard drive or floppy disk, either as a plain text\n",
      "(.TXT) or HyperText Markup Language (.HTM or .HTML) file. You\n",
      "should be able to open such files in your word processor or\n",
      "browser.\n",
      "Since saving an HTML file as a simple text file strips out all\n",
      "the hypertext code, note that the saved file will require some\n",
      "editing in your word processor. It may have odd line lengths\n",
      "and other odd format features. Open it in your word processor\n",
      "to edit it.\n",
      "Internet information providers often make word-processed files\n",
      "more immediately accessible by providing simple text files\n",
      "(usually with a \"TXT\" file extension). Text files are simple,\n",
      "universal, and transportable, but unfortunately they cannot\n",
      "convey attributes (such as underlining or bold). Here, for\n",
      "example, is a text file of the page you are reading. Try\n",
      "saving it and opening it in your word processor. This time the\n",
      "simple text file will look much better, because I've\n",
      "edited it for you beforehand.\n"
     ]
    }
   ],
   "source": [
    "#Reading a file\n",
    "file = open('abcd.txt','r')\n",
    "for line in file: #\\n\n",
    "    print(line.rstrip())\n",
    "    \n",
    "file.close()"
   ]
  },
  {
   "cell_type": "code",
   "execution_count": 56,
   "metadata": {},
   "outputs": [],
   "source": [
    "#writing a file\n",
    "fh = open('example.txt','w')\n",
    "fh.write(\"we are currently doing a python course\\nAfter this we are doing a Data Analytics course using Python.\")\n",
    "fh.close()"
   ]
  },
  {
   "cell_type": "code",
   "execution_count": 57,
   "metadata": {},
   "outputs": [],
   "source": [
    "with open(\"example.txt\", \"w\") as fh:\n",
    "    fh.write(\"To write or not to write\\nthat is the question!\")"
   ]
  },
  {
   "cell_type": "code",
   "execution_count": 58,
   "metadata": {},
   "outputs": [
    {
     "name": "stdout",
     "output_type": "stream",
     "text": [
      "Web pages are text files and are easy to download. For\n",
      "example, to save the file that you are reading right now,\n",
      "click \"File--Save As\" on your browser's toolbar, and save the\n",
      "file on your hard drive or floppy disk, either as a plain text\n",
      "(.TXT) or HyperText Markup Language (.HTM or .HTML) file. You\n",
      "should be able to open such files in your word processor or\n",
      "browser.\n",
      "Since saving an HTML file as a simple text file strips out all\n",
      "the hypertext code, note that the saved file will require some\n",
      "editing in your word processor. It may have odd line lengths\n",
      "and other odd format features. Open it in your word processor\n",
      "to edit it.\n",
      "Internet information providers often make word-processed files\n",
      "more immediately accessible by providing simple text files\n",
      "(usually with a \"TXT\" file extension). Text files are simple,\n",
      "universal, and transportable, but unfortunately they cannot\n",
      "convey attributes (such as underlining or bold). Here, for\n",
      "example, is a text file of the page you are reading. Try\n",
      "saving it and opening it in your word processor. This time the\n",
      "simple text file will look much better, because I've\n",
      "edited it for you beforehand.\n"
     ]
    }
   ],
   "source": [
    "with open(\"abcd.txt\") as fobj:\n",
    "    for line in fobj:\n",
    "        print(line.rstrip())"
   ]
  },
  {
   "cell_type": "code",
   "execution_count": 61,
   "metadata": {},
   "outputs": [
    {
     "name": "stdout",
     "output_type": "stream",
     "text": [
      "Web pages are text files and are easy to download. For\n",
      "example, to save the file that you are reading right now,\n",
      "click \"File--Save As\" on your browser's toolbar, and save the\n",
      "file on your hard drive or floppy disk, either as a plain text\n",
      "(.TXT) or HyperText Markup Language (.HTM or .HTML) file. You\n",
      "should be able to open such files in your word processor or\n",
      "browser.\n",
      "Since saving an HTML file as a simple text file strips out all\n",
      "the hypertext code, note that the saved file will require some\n",
      "editing in your word processor. It may have odd line lengths\n",
      "and other odd format features. Open it in your word processor\n",
      "to edit it.\n",
      "Internet information providers often make word-processed files\n",
      "more immediately accessible by providing simple text files\n",
      "(usually with a \"TXT\" file extension). Text files are simple,\n",
      "universal, and transportable, but unfortunately they cannot\n",
      "convey attributes (such as underlining or bold). Here, for\n",
      "example, is a text file of the page you are reading. Try\n",
      "saving it and opening it in your word processor. This time the\n",
      "simple text file will look much better, because I've\n",
      "edited it for you beforehand.\n"
     ]
    }
   ],
   "source": [
    "fobj_in = open(\"abcd.txt\")\n",
    "fobj_out = open(\"abcd2.txt\",\"w\")\n",
    "\n",
    "for line in fobj_in:\n",
    "    print(line.rstrip())\n",
    "    fobj_out.write(line)\n",
    "\n",
    "fobj_in.close()\n",
    "fobj_out.close()"
   ]
  },
  {
   "cell_type": "code",
   "execution_count": 65,
   "metadata": {},
   "outputs": [
    {
     "data": {
      "text/plain": [
       "['Web pages are text files and are easy to download. For \\n',\n",
       " 'example, to save the file that you are reading right now, \\n',\n",
       " 'click \"File--Save As\" on your browser\\'s toolbar, and save the \\n',\n",
       " 'file on your hard drive or floppy disk, either as a plain text \\n',\n",
       " '(.TXT) or HyperText Markup Language (.HTM or .HTML) file. You \\n',\n",
       " 'should be able to open such files in your word processor or \\n',\n",
       " 'browser.\\n',\n",
       " 'Since saving an HTML file as a simple text file strips out all \\n',\n",
       " 'the hypertext code, note that the saved file will require some \\n',\n",
       " 'editing in your word processor. It may have odd line lengths \\n',\n",
       " 'and other odd format features. Open it in your word processor \\n',\n",
       " 'to edit it.\\n',\n",
       " 'Internet information providers often make word-processed files \\n',\n",
       " 'more immediately accessible by providing simple text files \\n',\n",
       " '(usually with a \"TXT\" file extension). Text files are simple, \\n',\n",
       " 'universal, and transportable, but unfortunately they cannot \\n',\n",
       " 'convey attributes (such as underlining or bold). Here, for \\n',\n",
       " 'example, is a text file of the page you are reading. Try \\n',\n",
       " 'saving it and opening it in your word processor. This time the \\n',\n",
       " \"simple text file will look much better, because I've \\n\",\n",
       " 'edited it for you beforehand.']"
      ]
     },
     "execution_count": 65,
     "metadata": {},
     "output_type": "execute_result"
    }
   ],
   "source": [
    "file1 = open(\"abcd.txt\").readlines()\n",
    "file1"
   ]
  },
  {
   "cell_type": "code",
   "execution_count": 66,
   "metadata": {},
   "outputs": [
    {
     "data": {
      "text/plain": [
       "'click \"File--Save As\" on your browser\\'s toolbar, and save the \\n'"
      ]
     },
     "execution_count": 66,
     "metadata": {},
     "output_type": "execute_result"
    }
   ],
   "source": [
    "file1[2]"
   ]
  },
  {
   "cell_type": "code",
   "execution_count": 70,
   "metadata": {},
   "outputs": [
    {
     "data": {
      "text/plain": [
       "'pages '"
      ]
     },
     "execution_count": 70,
     "metadata": {},
     "output_type": "execute_result"
    }
   ],
   "source": [
    "file2 = open(\"abcd.txt\").read()\n",
    "file2[4:10]"
   ]
  },
  {
   "cell_type": "code",
   "execution_count": 76,
   "metadata": {},
   "outputs": [
    {
     "name": "stdout",
     "output_type": "stream",
     "text": [
      "0\n"
     ]
    }
   ],
   "source": [
    "file3 = open(\"abcd.txt\")\n",
    "print(file3.tell())"
   ]
  },
  {
   "cell_type": "code",
   "execution_count": 77,
   "metadata": {},
   "outputs": [
    {
     "name": "stdout",
     "output_type": "stream",
     "text": [
      "Web pages\n"
     ]
    }
   ],
   "source": [
    "print(file3.read(9))"
   ]
  },
  {
   "cell_type": "code",
   "execution_count": 78,
   "metadata": {},
   "outputs": [
    {
     "name": "stdout",
     "output_type": "stream",
     "text": [
      "9\n"
     ]
    }
   ],
   "source": [
    "print(file3.tell())"
   ]
  },
  {
   "cell_type": "code",
   "execution_count": 79,
   "metadata": {},
   "outputs": [
    {
     "name": "stdout",
     "output_type": "stream",
     "text": [
      " are text\n"
     ]
    }
   ],
   "source": [
    "print(file3.read(9))"
   ]
  },
  {
   "cell_type": "code",
   "execution_count": 80,
   "metadata": {},
   "outputs": [
    {
     "name": "stdout",
     "output_type": "stream",
     "text": [
      "30\n",
      "re easy t\n"
     ]
    }
   ],
   "source": [
    "print(file3.seek(30))\n",
    "print(file3.read(9))"
   ]
  },
  {
   "cell_type": "code",
   "execution_count": 83,
   "metadata": {},
   "outputs": [
    {
     "name": "stdout",
     "output_type": "stream",
     "text": [
      "brown\n",
      "16\n",
      "The colour green\n"
     ]
    }
   ],
   "source": [
    "fh = open('colours.txt', 'w+')\n",
    "fh.write('The colour brown')\n",
    "\n",
    "# Go to the 12th byte in the file, counting starts with 0\n",
    "fh.seek(11)   \n",
    "print(fh.read(5))\n",
    "print(fh.tell())\n",
    "fh.seek(11)\n",
    "fh.write('green')\n",
    "fh.seek(0)\n",
    "content = fh.read()\n",
    "print(content)"
   ]
  },
  {
   "cell_type": "code",
   "execution_count": 89,
   "metadata": {},
   "outputs": [
    {
     "name": "stdout",
     "output_type": "stream",
     "text": [
      "askdjhaksdjfsdfdsfsdfles and are easy to download. For \n",
      "example, to save the file that you are reading right now, \n",
      "click \"File--Save As\" on your browser's toolbar, and save the \n",
      "file on your hard drive or floppy disk, either as a plain text \n",
      "(.TXT) or HyperText Markup Language (.HTM or .HTML) file. You \n",
      "should be able to open such files in your word processor or \n",
      "browser.\n",
      "Since saving an HTML file as a simple text file strips out all \n",
      "the hypertext code, note that the saved file will require some \n",
      "editing in your word processor. It may have odd line lengths \n",
      "and other odd format features. Open it in your word processor \n",
      "to edit it.\n",
      "Internet information providers often make word-processed files \n",
      "more immediately accessible by providing simple text files \n",
      "(usually with a \"TXT\" file extension). Text files are simple, \n",
      "universal, and transportable, but unfortunately they cannot \n",
      "convey attributes (such as underlining or bold). Here, for \n",
      "example, is a text file of the page you are reading. Try \n",
      "saving it and opening it in your word processor. This time the \n",
      "simple text file will look much better, because I've \n",
      "edited it for you beforehand.I am a good personI am a good person\n",
      "\n",
      "\n",
      "\n",
      "\n",
      "askdjhaksdjfsdfdsfsdfles and are easy to download. For \n",
      "example, to save the file that you are reading right now, \n",
      "click \"File--Save As\" on your browser's toolbar, and save the \n",
      "file on your hard drive or floppy disk, either as a plain text \n",
      "(.TXT) or HyperText Markup Language (.HTM or .HTML) file. You \n",
      "should be able to open such files in your word processor or \n",
      "browser.\n",
      "Since saving an HTML file as a simple text file strips out all \n",
      "the hypertext code, note that the saved file will require some \n",
      "editing in your word processor. It may have odd line lengths \n",
      "and other odd format features. Open it in your word processor \n",
      "to edit it.\n",
      "Internet information providers often make word-processed files \n",
      "more immediately accessible by providing simple text files \n",
      "(usually with a \"TXT\" file extension). Text files are simple, \n",
      "universal, and transportable, but unfortunately they cannot \n",
      "convey attributes (such as underlining or bold). Here, for \n",
      "example, is a text file of the page you are reading. Try \n",
      "saving it and opening it in your word processor. This time the \n",
      "simple text file will look much better, because I've \n",
      "edited it for you beforehand.I am a good personI am a good personI am a good person\n"
     ]
    }
   ],
   "source": [
    "fh = open('abcd.txt','r+')\n",
    "content = fh.read()\n",
    "print(content)\n",
    "\n",
    "print('\\n\\n\\n')\n",
    "fh.write(\"I am a good person\")\n",
    "fh.seek(0)\n",
    "content = fh.read()\n",
    "print(content)"
   ]
  }
 ],
 "metadata": {
  "kernelspec": {
   "display_name": "Python 3",
   "language": "python",
   "name": "python3"
  },
  "language_info": {
   "codemirror_mode": {
    "name": "ipython",
    "version": 3
   },
   "file_extension": ".py",
   "mimetype": "text/x-python",
   "name": "python",
   "nbconvert_exporter": "python",
   "pygments_lexer": "ipython3",
   "version": "3.6.4"
  }
 },
 "nbformat": 4,
 "nbformat_minor": 2
}
