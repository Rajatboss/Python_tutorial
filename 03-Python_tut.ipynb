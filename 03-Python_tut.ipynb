{
 "cells": [
  {
   "cell_type": "markdown",
   "metadata": {},
   "source": [
    "# Input from keyboard\n",
    "#### The input of the user will be returned as a string without any changes. If this raw input has to be transformed into another data type needed by the algorithm, we can use either a casting function or the eval function."
   ]
  },
  {
   "cell_type": "code",
   "execution_count": 5,
   "metadata": {},
   "outputs": [
    {
     "name": "stdout",
     "output_type": "stream",
     "text": [
      "What's your name? \n",
      "Rajat\n",
      "Hello Rajat\n"
     ]
    }
   ],
   "source": [
    "name = input(\"What's your name? \\n\")\n",
    "print(\"Hello \"+name)"
   ]
  },
  {
   "cell_type": "code",
   "execution_count": 6,
   "metadata": {},
   "outputs": [
    {
     "data": {
      "text/plain": [
       "str"
      ]
     },
     "execution_count": 6,
     "metadata": {},
     "output_type": "execute_result"
    }
   ],
   "source": [
    "type(name)"
   ]
  },
  {
   "cell_type": "code",
   "execution_count": 7,
   "metadata": {},
   "outputs": [
    {
     "name": "stdout",
     "output_type": "stream",
     "text": [
      "\n"
     ]
    },
    {
     "data": {
      "text/plain": [
       "str"
      ]
     },
     "execution_count": 7,
     "metadata": {},
     "output_type": "execute_result"
    }
   ],
   "source": [
    "type(input()) #str(input)"
   ]
  },
  {
   "cell_type": "code",
   "execution_count": 9,
   "metadata": {},
   "outputs": [
    {
     "name": "stdout",
     "output_type": "stream",
     "text": [
      "5\n"
     ]
    }
   ],
   "source": [
    "# eval() interprets a string as code\n",
    "name = eval(input())"
   ]
  },
  {
   "cell_type": "code",
   "execution_count": 10,
   "metadata": {},
   "outputs": [
    {
     "data": {
      "text/plain": [
       "int"
      ]
     },
     "execution_count": 10,
     "metadata": {},
     "output_type": "execute_result"
    }
   ],
   "source": [
    "type(name)"
   ]
  },
  {
   "cell_type": "code",
   "execution_count": 11,
   "metadata": {},
   "outputs": [
    {
     "name": "stdout",
     "output_type": "stream",
     "text": [
      "67\n",
      "<class 'int'>\n"
     ]
    }
   ],
   "source": [
    "name = int(input())\n",
    "print(type(name))"
   ]
  },
  {
   "cell_type": "code",
   "execution_count": 12,
   "metadata": {},
   "outputs": [
    {
     "name": "stdout",
     "output_type": "stream",
     "text": [
      "[2,4]\n",
      "<class 'list'>\n"
     ]
    }
   ],
   "source": [
    "name = eval(input())\n",
    "print(type(name))"
   ]
  },
  {
   "cell_type": "markdown",
   "metadata": {},
   "source": [
    "# Conditional Statements"
   ]
  },
  {
   "cell_type": "code",
   "execution_count": 28,
   "metadata": {},
   "outputs": [
    {
     "name": "stdout",
     "output_type": "stream",
     "text": [
      "you can't vote\n"
     ]
    }
   ],
   "source": [
    "age = 16\n",
    "\n",
    "if 90 >age > 18:\n",
    "    print(\"you can vote\")\n",
    "elif age>90:\n",
    "    print(\"you are going to die soon\")\n",
    "else:\n",
    "    print(\"you can't vote\")"
   ]
  },
  {
   "cell_type": "code",
   "execution_count": 26,
   "metadata": {},
   "outputs": [
    {
     "name": "stdout",
     "output_type": "stream",
     "text": [
      "6\n"
     ]
    }
   ],
   "source": [
    "#The ternary operator:- condition?statement1:statement2;\n",
    "a=5\n",
    "b=6\n",
    "# max1 = (a>b)?a:b\n",
    "max1 = a if a>b else b\n",
    "print(max1)"
   ]
  },
  {
   "cell_type": "markdown",
   "metadata": {},
   "source": [
    "# Loops\n",
    "\n",
    "![alt text](while_loop_1.png \"Title\")"
   ]
  },
  {
   "cell_type": "code",
   "execution_count": 30,
   "metadata": {},
   "outputs": [
    {
     "name": "stdout",
     "output_type": "stream",
     "text": [
      "0\n",
      "2\n",
      "4\n",
      "6\n",
      "8\n",
      "10\n",
      "12\n",
      "14\n",
      "16\n",
      "18\n"
     ]
    }
   ],
   "source": [
    "#count-controlled loops : for loop\n",
    "for i in range(0,10):\n",
    "    print(i*2)"
   ]
  },
  {
   "cell_type": "code",
   "execution_count": 31,
   "metadata": {},
   "outputs": [
    {
     "name": "stdout",
     "output_type": "stream",
     "text": [
      "25\n",
      "16\n",
      "9\n",
      "4\n",
      "1\n"
     ]
    }
   ],
   "source": [
    "#condition-controlled loop: while and while-else\n",
    "number =5\n",
    "while number>0:\n",
    "    print(number**2)\n",
    "    number = number -1"
   ]
  },
  {
   "cell_type": "code",
   "execution_count": 33,
   "metadata": {},
   "outputs": [
    {
     "name": "stdout",
     "output_type": "stream",
     "text": [
      "2\n",
      "4\n",
      "6\n",
      "8\n",
      "138\n",
      "12\n"
     ]
    }
   ],
   "source": [
    "#Collection-controlled loop \n",
    "li =[1,2,3,4,69,6]\n",
    "for i in li:\n",
    "    print(i*2)"
   ]
  },
  {
   "cell_type": "code",
   "execution_count": 35,
   "metadata": {},
   "outputs": [
    {
     "name": "stdout",
     "output_type": "stream",
     "text": [
      "rajat\n",
      "rajat\n",
      "rajat\n",
      "rajat\n",
      "rajat\n",
      "rajat\n",
      "rajat\n",
      "rajat\n"
     ]
    }
   ],
   "source": [
    "#Infinite loop\n",
    "li = [1,2,6,8,0,121,232342,6]\n",
    "\n",
    "var = len(li)\n",
    "while 1:\n",
    "    if var<1:\n",
    "        break;\n",
    "    else:\n",
    "        print(\"rajat\")\n",
    "        var = var-1"
   ]
  },
  {
   "cell_type": "code",
   "execution_count": 38,
   "metadata": {},
   "outputs": [
    {
     "name": "stdout",
     "output_type": "stream",
     "text": [
      "you are eating parataha\n"
     ]
    }
   ],
   "source": [
    "#continue and break statement\n",
    "li = ['parataha','spam', 'egg', 'ham']\n",
    "for i in li:\n",
    "    if i == 'spam':\n",
    "        break #continue\n",
    "    \n",
    "    print(\"you are eating \"+i)"
   ]
  },
  {
   "cell_type": "code",
   "execution_count": 41,
   "metadata": {},
   "outputs": [
    {
     "name": "stdout",
     "output_type": "stream",
     "text": [
      "[1, 3, 5, 7, 9]\n"
     ]
    }
   ],
   "source": [
    "# range(begin,end, step)\n",
    "print(list(range(1,10,2)))"
   ]
  },
  {
   "cell_type": "code",
   "execution_count": 43,
   "metadata": {},
   "outputs": [
    {
     "name": "stdout",
     "output_type": "stream",
     "text": [
      "['red', 'black']\n"
     ]
    }
   ],
   "source": [
    "# List iteration with Side Effects\n",
    "colours = [\"red\"]\n",
    "for i in colours[:]:\n",
    "    if i == \"red\":\n",
    "        colours += [\"black\"]\n",
    "    if i == \"black\":\n",
    "        colours += [\"white\"]\n",
    "        \n",
    "print(colours)"
   ]
  },
  {
   "cell_type": "markdown",
   "metadata": {},
   "source": [
    "# Iterator and Iterables\n",
    "'''\n",
    "every iterator is iterable but not every iterable is iterator\n",
    "e.g. :- list\n",
    "\n",
    "An iterator can be created from an iterable by using the function 'iter'\n",
    "'''"
   ]
  },
  {
   "cell_type": "code",
   "execution_count": 44,
   "metadata": {},
   "outputs": [
    {
     "name": "stdout",
     "output_type": "stream",
     "text": [
      "Berlin\n",
      "Vienna\n",
      "Zurich\n",
      "Python\n",
      "Perl\n",
      "Ruby\n",
      "I\n",
      "t\n",
      "e\n",
      "r\n",
      "a\n",
      "t\n",
      "i\n",
      "o\n",
      "n\n",
      " \n",
      "i\n",
      "s\n",
      " \n",
      "e\n",
      "a\n",
      "s\n",
      "y\n"
     ]
    }
   ],
   "source": [
    "for city in [\"Berlin\", \"Vienna\", \"Zurich\"]:\n",
    "    print(city)\n",
    "for city in (\"Python\", \"Perl\", \"Ruby\"):\n",
    "    print(city)\n",
    "for char in \"Iteration is easy\":\n",
    "    print(char)"
   ]
  },
  {
   "cell_type": "code",
   "execution_count": 49,
   "metadata": {},
   "outputs": [
    {
     "name": "stdout",
     "output_type": "stream",
     "text": [
      "<list_iterator object at 0x0000023EDF6C5710>\n",
      "Berlin\n",
      "Vienna\n",
      "Zurich\n"
     ]
    },
    {
     "ename": "StopIteration",
     "evalue": "",
     "output_type": "error",
     "traceback": [
      "\u001b[1;31m---------------------------------------------------------------------------\u001b[0m",
      "\u001b[1;31mStopIteration\u001b[0m                             Traceback (most recent call last)",
      "\u001b[1;32m<ipython-input-49-5b2ba014bdcf>\u001b[0m in \u001b[0;36m<module>\u001b[1;34m()\u001b[0m\n\u001b[0;32m      5\u001b[0m \u001b[0mprint\u001b[0m\u001b[1;33m(\u001b[0m\u001b[0mnext\u001b[0m\u001b[1;33m(\u001b[0m\u001b[0miterator_obj\u001b[0m\u001b[1;33m)\u001b[0m\u001b[1;33m)\u001b[0m\u001b[1;33m\u001b[0m\u001b[0m\n\u001b[0;32m      6\u001b[0m \u001b[0mprint\u001b[0m\u001b[1;33m(\u001b[0m\u001b[0mnext\u001b[0m\u001b[1;33m(\u001b[0m\u001b[0miterator_obj\u001b[0m\u001b[1;33m)\u001b[0m\u001b[1;33m)\u001b[0m\u001b[1;33m\u001b[0m\u001b[0m\n\u001b[1;32m----> 7\u001b[1;33m \u001b[0mprint\u001b[0m\u001b[1;33m(\u001b[0m\u001b[0mnext\u001b[0m\u001b[1;33m(\u001b[0m\u001b[0miterator_obj\u001b[0m\u001b[1;33m)\u001b[0m\u001b[1;33m)\u001b[0m\u001b[1;33m\u001b[0m\u001b[0m\n\u001b[0m",
      "\u001b[1;31mStopIteration\u001b[0m: "
     ]
    }
   ],
   "source": [
    "cities = [\"Berlin\", \"Vienna\", \"Zurich\"]\n",
    "iterator_obj = iter(cities)\n",
    "print(iterator_obj)\n",
    "print(next(iterator_obj))\n",
    "print(next(iterator_obj))\n",
    "print(next(iterator_obj))\n",
    "# print(next(iterator_obj))"
   ]
  },
  {
   "cell_type": "code",
   "execution_count": null,
   "metadata": {},
   "outputs": [],
   "source": [
    "def iterable(obj):\n",
    "     try:\n",
    "         iter(obj)\n",
    "         return True\n",
    "     except TypeError:\n",
    "         return False \n",
    "        \n",
    "for element in [34, [4, 5], (4, 5), {\"a\":4}, \"dfsdf\", 4.5]:\n",
    "    print(element, \"iterable: \", iterable(element))"
   ]
  },
  {
   "cell_type": "markdown",
   "metadata": {},
   "source": [
    "# Print in Python"
   ]
  },
  {
   "cell_type": "code",
   "execution_count": 53,
   "metadata": {},
   "outputs": [
    {
     "name": "stdout",
     "output_type": "stream",
     "text": [
      "1 :) 2 :) 3 :) 4sdfaksdfj"
     ]
    }
   ],
   "source": [
    "print(1,2,3,4,sep =' :) ', end='sdfaksdfj')\n",
    "\n",
    "# f = open('data.txt','w')"
   ]
  },
  {
   "cell_type": "code",
   "execution_count": 61,
   "metadata": {},
   "outputs": [
    {
     "name": "stdout",
     "output_type": "stream",
     "text": [
      "Art: 34.77\n",
      "Art: 3452335.453 Price: 234.343\n"
     ]
    }
   ],
   "source": [
    "#formatted output\n",
    "print(\"Art: %3.2f\"%(34.7687687))\n",
    "print(\"Art: {1:2.3f} Price: {0:3.3f}\".format(234.3434345, 3452335.45345354))"
   ]
  },
  {
   "cell_type": "markdown",
   "metadata": {},
   "source": [
    "\"How String modulo operator works?\"\n",
    "\n",
    "![alt text](string_modulo_overview.png \"Title \")\n",
    "\n",
    "\n",
    "\n",
    "![alt text](format_method_positional_parameters.png \"Title \")"
   ]
  },
  {
   "cell_type": "code",
   "execution_count": 64,
   "metadata": {},
   "outputs": [
    {
     "name": "stdout",
     "output_type": "stream",
     "text": [
      "The capital of Ontario is Toronto\n",
      "{'province': 'Ontario', 'capital': 'Toronto'}\n",
      "Toronto is the capital of Ontario\n"
     ]
    }
   ],
   "source": [
    "print(\"The capital of {province} is {capital}\"\\\n",
    "      .format(province=\"Ontario\",capital=\"Toronto\"))\n",
    "\n",
    "data = dict(province=\"Ontario\",capital=\"Toronto\")\n",
    "print(data)\n",
    "print(\"{capital} is the capital of {province}\".format(**data))"
   ]
  },
  {
   "cell_type": "code",
   "execution_count": 66,
   "metadata": {},
   "outputs": [
    {
     "name": "stdout",
     "output_type": "stream",
     "text": [
      "a=5\n"
     ]
    }
   ],
   "source": [
    "locals()\n",
    "print(\"a={a}\".format(**locals()))"
   ]
  },
  {
   "cell_type": "code",
   "execution_count": 71,
   "metadata": {},
   "outputs": [
    {
     "name": "stdout",
     "output_type": "stream",
     "text": [
      "************rajat*************\n",
      "rajat*************************\n",
      "*************************rajat\n",
      "0000000000000000000000000rajat\n"
     ]
    }
   ],
   "source": [
    "#other string methods for formatting\n",
    "# S.center(width[, fillchar])\n",
    "s = 'rajat'\n",
    "print(s.center(30,'*'))\n",
    "# S.ljust(width[, fillchar])\n",
    "print(s.ljust(30,'*'))\n",
    "# S.rjust(width[, fillchar])\n",
    "print(s.rjust(30,'*'))\n",
    "# S.zfill(width)\n",
    "print(s.zfill(30))"
   ]
  },
  {
   "cell_type": "markdown",
   "metadata": {},
   "source": [
    "# Functions"
   ]
  },
  {
   "cell_type": "code",
   "execution_count": null,
   "metadata": {},
   "outputs": [],
   "source": []
  },
  {
   "cell_type": "code",
   "execution_count": 72,
   "metadata": {},
   "outputs": [],
   "source": [
    "#Optional Parameter"
   ]
  },
  {
   "cell_type": "code",
   "execution_count": 76,
   "metadata": {},
   "outputs": [
    {
     "name": "stdout",
     "output_type": "stream",
     "text": [
      "Hello everybody!\n",
      "The docstring of the function Hello:  Greets a person \n"
     ]
    }
   ],
   "source": [
    "'''\n",
    "The first statement in the body of a function is usually a string,\n",
    "which can be accessed with function_name.__doc__ \n",
    "This statement is called Docstring. \n",
    "'''\n",
    "def Hello(name = 'everybody'):\n",
    "    \"\"\" Greets a person \"\"\"\n",
    "    print(\"Hello \" + name + \"!\")\n",
    "\n",
    "Hello()\n",
    "print(\"The docstring of the function Hello: \" + Hello.__doc__)"
   ]
  },
  {
   "cell_type": "code",
   "execution_count": 81,
   "metadata": {},
   "outputs": [
    {
     "name": "stdout",
     "output_type": "stream",
     "text": [
      "8\n",
      "8\n",
      "5\n"
     ]
    }
   ],
   "source": [
    "#local and global variable and nonlocal variable\n",
    "s = 5\n",
    "def g():\n",
    "    s = 6 #local scope\n",
    "    def f():\n",
    "        nonlocal s\n",
    "        s = 8\n",
    "        print(s)\n",
    "    f()\n",
    "    print(s)\n",
    "\n",
    "g()\n",
    "print(s)"
   ]
  },
  {
   "cell_type": "code",
   "execution_count": 86,
   "metadata": {},
   "outputs": [
    {
     "name": "stdout",
     "output_type": "stream",
     "text": [
      "20.0\n"
     ]
    }
   ],
   "source": [
    "#Arbitrary number of parameters\n",
    "def arithmetic_mean(*values):\n",
    "    print(sum(values)/len(values))\n",
    "    \n",
    "li = [1,23,5,6,7,8,90]\n",
    "arithmetic_mean(*li)"
   ]
  },
  {
   "cell_type": "code",
   "execution_count": null,
   "metadata": {},
   "outputs": [],
   "source": [
    "#unpacking a list"
   ]
  },
  {
   "cell_type": "code",
   "execution_count": 87,
   "metadata": {},
   "outputs": [
    {
     "data": {
      "text/plain": [
       "\"\\nQuestion:- How to turn this list into two tuples?\\nmy_list = [('a', 232), \\n           ('b', 343), \\n           ('c', 543), \\n           ('d', 23)]\\n\\n[('a', 'b', 'c', 'd'), \\n (232, 343, 543, 23)]\\n\\n\""
      ]
     },
     "execution_count": 87,
     "metadata": {},
     "output_type": "execute_result"
    }
   ],
   "source": [
    "'''\n",
    "Question:- How to turn this list into two tuples?\n",
    "my_list = [('a', 232), \n",
    "           ('b', 343), \n",
    "           ('c', 543), \n",
    "           ('d', 23)]\n",
    "\n",
    "[('a', 'b', 'c', 'd'), \n",
    " (232, 343, 543, 23)]\n",
    "\n",
    "'''"
   ]
  },
  {
   "cell_type": "code",
   "execution_count": 91,
   "metadata": {},
   "outputs": [
    {
     "name": "stdout",
     "output_type": "stream",
     "text": [
      "{'de': 'German', 'en': 'English', 'fr': 'French', 'iN': 'India'}\n",
      "append block extract yes\n"
     ]
    }
   ],
   "source": [
    "#Arbitrary number of Keyword Parameters\n",
    "def f(**kwargs):\n",
    "    print(kwargs)\n",
    "    \n",
    "f(de=\"German\",en=\"English\",fr=\"French\",iN = 'India')\n",
    "\n",
    "def f(a,b,x,y):\n",
    "    print(a,b,x,y)\n",
    "    \n",
    "d = {'a':'append', 'b':'block','x':'extract','y':'yes'}\n",
    "f(**d)"
   ]
  },
  {
   "cell_type": "code",
   "execution_count": 92,
   "metadata": {},
   "outputs": [
    {
     "name": "stdout",
     "output_type": "stream",
     "text": [
      "120\n"
     ]
    }
   ],
   "source": [
    "#Recursive Function ex:-factorial\n",
    "def fact(n):\n",
    "    if n<=1:\n",
    "        return 1\n",
    "    else :\n",
    "        return n*fact(n-1)\n",
    "    \n",
    "print(fact(5))"
   ]
  },
  {
   "cell_type": "code",
   "execution_count": 93,
   "metadata": {},
   "outputs": [
    {
     "name": "stdout",
     "output_type": "stream",
     "text": [
      "I am parent\n",
      "I am child\n"
     ]
    }
   ],
   "source": [
    "#Function inside function\n",
    "def g():\n",
    "    print(\"I am parent\")\n",
    "    def f():\n",
    "        print(\"I am child\")\n",
    "    f()\n",
    "    \n",
    "g()"
   ]
  },
  {
   "cell_type": "code",
   "execution_count": 94,
   "metadata": {},
   "outputs": [
    {
     "name": "stdout",
     "output_type": "stream",
     "text": [
      "I am normal\n",
      "I am abnormal\n"
     ]
    }
   ],
   "source": [
    "#Function as parameter\n",
    "def g(func):\n",
    "    print(\"I am normal\")\n",
    "    func()\n",
    "    \n",
    "def f():\n",
    "    print(\"I am abnormal\")\n",
    "    \n",
    "g(f)"
   ]
  },
  {
   "cell_type": "code",
   "execution_count": 97,
   "metadata": {},
   "outputs": [
    {
     "name": "stdout",
     "output_type": "stream",
     "text": [
      "I am parent\n"
     ]
    },
    {
     "data": {
      "text/plain": [
       "<function __main__.g.<locals>.f>"
      ]
     },
     "execution_count": 97,
     "metadata": {},
     "output_type": "execute_result"
    }
   ],
   "source": [
    "#Function returning function\n",
    "def g():\n",
    "    print(\"I am parent\")\n",
    "    def f():\n",
    "        print(\"I am child\")\n",
    "    return f\n",
    "\n",
    "# func = g()\n",
    "# func()\n",
    "\n",
    "hjj = g\n",
    "hjj()"
   ]
  }
 ],
 "metadata": {
  "kernelspec": {
   "display_name": "Python 3",
   "language": "python",
   "name": "python3"
  },
  "language_info": {
   "codemirror_mode": {
    "name": "ipython",
    "version": 3
   },
   "file_extension": ".py",
   "mimetype": "text/x-python",
   "name": "python",
   "nbconvert_exporter": "python",
   "pygments_lexer": "ipython3",
   "version": "3.6.4"
  }
 },
 "nbformat": 4,
 "nbformat_minor": 2
}
